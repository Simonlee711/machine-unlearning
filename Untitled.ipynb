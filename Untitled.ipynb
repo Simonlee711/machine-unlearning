{
 "cells": [
  {
   "cell_type": "code",
   "execution_count": 2,
   "id": "f79ccf50",
   "metadata": {},
   "outputs": [],
   "source": [
    "# !pip install openml xgboost scikit-learn"
   ]
  },
  {
   "cell_type": "code",
   "execution_count": 15,
   "id": "98bcc6ea",
   "metadata": {},
   "outputs": [],
   "source": [
    "############################################################\n",
    "# 5. Unlearning logic\n",
    "############################################################\n",
    "\n",
    "def compute_grad_hess(booster, X_remove, y_remove):\n",
    "    dremove = xgb.DMatrix(X_remove, label=y_remove, enable_categorical=True)\n",
    "    raw_preds = booster.predict(dremove, output_margin=True)\n",
    "    p = 1.0 / (1.0 + np.exp(-raw_preds))\n",
    "    grad = p - y_remove\n",
    "    hess = p * (1.0 - p)\n",
    "    return grad, hess\n",
    "\n",
    "\n",
    "def unlearn_points(booster, metadata, X_remove, y_remove, lambda_reg=1.0):\n",
    "    grad, hess = compute_grad_hess(booster, X_remove, y_remove)\n",
    "    leaf_indices = booster.predict(xgb.DMatrix(X_remove), pred_leaf=True)\n",
    "    updated_metadata = []\n",
    "    for tree_idx, tree_md in enumerate(metadata):\n",
    "        new_tree_md = []\n",
    "        leaf_grad_sum = np.zeros(len(tree_md))\n",
    "        leaf_hess_sum = np.zeros(len(tree_md))\n",
    "        for sample_idx, leaf_idx in enumerate(leaf_indices[:, tree_idx]):\n",
    "            leaf_grad_sum[leaf_idx] += grad[sample_idx]\n",
    "            leaf_hess_sum[leaf_idx] += hess[sample_idx]\n",
    "        for leaf_idx, leaf_stats in enumerate(tree_md):\n",
    "            leaf_copy = leaf_stats.copy()\n",
    "            leaf_copy['sum_grad'] -= leaf_grad_sum[leaf_idx]\n",
    "            leaf_copy['sum_hess'] -= leaf_hess_sum[leaf_idx]\n",
    "            denom = leaf_copy['sum_hess'] + lambda_reg\n",
    "            if denom <= 1e-12:\n",
    "                leaf_copy['leaf_value'] = 0.0\n",
    "            else:\n",
    "                leaf_copy['leaf_value'] = -leaf_copy['sum_grad'] / denom\n",
    "            new_tree_md.append(leaf_copy)\n",
    "        updated_metadata.append(new_tree_md)\n",
    "    return updated_metadata\n",
    "\n",
    "\n",
    "def update_booster_with_metadata(booster, updated_metadata):\n",
    "    old_trees = booster.get_dump(with_stats=True)\n",
    "    new_trees_dump = []\n",
    "    for tree_str, tree_meta in zip(old_trees, updated_metadata):\n",
    "        updated_tree_lines = []\n",
    "        leaf_counter = 0\n",
    "        for line in tree_str.splitlines():\n",
    "            if 'leaf=' in line:\n",
    "                old_val_str = line.split('leaf=')[1].split(',')[0]\n",
    "                new_val = tree_meta[leaf_counter]['leaf_value']\n",
    "                line = line.replace(f\"leaf={old_val_str}\", f\"leaf={new_val}\")\n",
    "                leaf_counter += 1\n",
    "            updated_tree_lines.append(line)\n",
    "        new_trees_dump.append(\"\\n\".join(updated_tree_lines))\n",
    "    booster.set_dump(new_trees_dump)\n",
    "    return booster"
   ]
  },
  {
   "cell_type": "code",
   "execution_count": 14,
   "id": "0eabc732-0d1e-4519-be2b-ab1b2e8c6eec",
   "metadata": {
    "tags": []
   },
   "outputs": [
    {
     "name": "stderr",
     "output_type": "stream",
     "text": [
      "/tmp/ipykernel_3384497/1135487216.py:17: FutureWarning: Support for `output_format` of 'dict' will be removed in 0.15 and pandas dataframes will be returned instead. To ensure your code will continue to work, use `output_format`='dataframe'.\n",
      "  all_ds = openml.datasets.list_datasets(\n"
     ]
    },
    {
     "name": "stdout",
     "output_type": "stream",
     "text": [
      "Available columns in the dataset list: Index(['did', 'name', 'version', 'uploader', 'status', 'format',\n",
      "       'MajorityClassSize', 'MaxNominalAttDistinctValues', 'MinorityClassSize',\n",
      "       'NumberOfClasses', 'NumberOfFeatures', 'NumberOfInstances',\n",
      "       'NumberOfInstancesWithMissingValues', 'NumberOfMissingValues',\n",
      "       'NumberOfNumericFeatures', 'NumberOfSymbolicFeatures'],\n",
      "      dtype='object')\n",
      "Warning: 'default_target_attribute' column not found. Skipping this filter.\n"
     ]
    },
    {
     "name": "stderr",
     "output_type": "stream",
     "text": [
      "Filtering datasets: 100%|██████████| 33/33 [00:00<00:00, 14320.96it/s]\n"
     ]
    },
    {
     "name": "stdout",
     "output_type": "stream",
     "text": [
      "Found 33 total datasets with < 1000 samples (classification).\n"
     ]
    },
    {
     "name": "stderr",
     "output_type": "stream",
     "text": [
      "Processing datasets:   6%|▌         | 2/33 [00:00<00:01, 19.30it/s]"
     ]
    },
    {
     "name": "stdout",
     "output_type": "stream",
     "text": [
      "Error processing dataset 4 (labor): 'numpy.ndarray' object has no attribute 'iloc'\n"
     ]
    },
    {
     "name": "stderr",
     "output_type": "stream",
     "text": [
      "Processing datasets:  18%|█▊        | 6/33 [00:00<00:00, 30.69it/s]"
     ]
    },
    {
     "name": "stdout",
     "output_type": "stream",
     "text": [
      "Error processing dataset 13 (breast-cancer): 'numpy.ndarray' object has no attribute 'iloc'\n",
      "Error processing dataset 15 (breast-w): 'numpy.ndarray' object has no attribute 'iloc'\n"
     ]
    },
    {
     "name": "stderr",
     "output_type": "stream",
     "text": [
      "Processing datasets:  33%|███▎      | 11/33 [00:00<00:00, 32.33it/s]"
     ]
    },
    {
     "name": "stdout",
     "output_type": "stream",
     "text": [
      "Error processing dataset 25 (colic): 'numpy.ndarray' object has no attribute 'iloc'\n",
      "Error processing dataset 27 (colic): 'numpy.ndarray' object has no attribute 'iloc'\n",
      "Error processing dataset 29 (credit-approval): 'numpy.ndarray' object has no attribute 'iloc'\n"
     ]
    },
    {
     "name": "stderr",
     "output_type": "stream",
     "text": [
      "Processing datasets:  45%|████▌     | 15/33 [00:00<00:00, 32.33it/s]"
     ]
    },
    {
     "name": "stdout",
     "output_type": "stream",
     "text": [
      "Error processing dataset 37 (diabetes): 'numpy.ndarray' object has no attribute 'iloc'\n"
     ]
    },
    {
     "name": "stderr",
     "output_type": "stream",
     "text": [
      "Processing datasets:  58%|█████▊    | 19/33 [00:00<00:00, 33.78it/s]"
     ]
    },
    {
     "name": "stdout",
     "output_type": "stream",
     "text": [
      "Error processing dataset 40 (sonar): 'numpy.ndarray' object has no attribute 'iloc'\n",
      "Error processing dataset 43 (haberman): 'numpy.ndarray' object has no attribute 'iloc'\n",
      "Error processing dataset 49 (heart-c): 'numpy.ndarray' object has no attribute 'iloc'\n"
     ]
    },
    {
     "name": "stderr",
     "output_type": "stream",
     "text": [
      "Processing datasets:  73%|███████▎  | 24/33 [00:00<00:00, 35.32it/s]"
     ]
    },
    {
     "name": "stdout",
     "output_type": "stream",
     "text": [
      "Error processing dataset 50 (tic-tac-toe): 'numpy.ndarray' object has no attribute 'iloc'\n",
      "Error processing dataset 51 (heart-h): 'numpy.ndarray' object has no attribute 'iloc'\n"
     ]
    },
    {
     "name": "stderr",
     "output_type": "stream",
     "text": [
      "Processing datasets:  85%|████████▍ | 28/33 [00:00<00:00, 31.43it/s]"
     ]
    },
    {
     "name": "stdout",
     "output_type": "stream",
     "text": [
      "Error processing dataset 52 (trains): 'numpy.ndarray' object has no attribute 'iloc'\n",
      "Error processing dataset 53 (heart-statlog): 'numpy.ndarray' object has no attribute 'iloc'\n",
      "Error processing dataset 55 (hepatitis): 'numpy.ndarray' object has no attribute 'iloc'\n",
      "Error processing dataset 56 (vote): 'numpy.ndarray' object has no attribute 'iloc'\n",
      "Error processing dataset 59 (ionosphere): 'numpy.ndarray' object has no attribute 'iloc'\n"
     ]
    },
    {
     "name": "stderr",
     "output_type": "stream",
     "text": [
      "Processing datasets: 100%|██████████| 33/33 [00:01<00:00, 31.66it/s]"
     ]
    },
    {
     "name": "stdout",
     "output_type": "stream",
     "text": [
      "\n",
      "Final Results:\n",
      "Empty DataFrame\n",
      "Columns: []\n",
      "Index: []\n"
     ]
    },
    {
     "name": "stderr",
     "output_type": "stream",
     "text": [
      "\n"
     ]
    }
   ],
   "source": [
    "import openml\n",
    "import pandas as pd\n",
    "import numpy as np\n",
    "import xgboost as xgb\n",
    "from sklearn.model_selection import train_test_split\n",
    "from sklearn.preprocessing import LabelEncoder\n",
    "from sklearn.metrics import accuracy_score, precision_score, recall_score, f1_score, log_loss\n",
    "from tqdm import tqdm\n",
    "\n",
    "\n",
    "########################################\n",
    "# 1. Fetch all classification datasets #\n",
    "#    with < 1000 samples from OpenML   #\n",
    "########################################\n",
    "\n",
    "def fetch_classification_datasets_under_1000():\n",
    "    all_ds = openml.datasets.list_datasets(\n",
    "        status='active',\n",
    "        size=100\n",
    "    )\n",
    "    df = pd.DataFrame.from_dict(all_ds, orient='index')\n",
    "    print(\"Available columns in the dataset list:\", df.columns)\n",
    "    df = df[df['NumberOfInstances'] < 1000]\n",
    "    target_col = 'default_target_attribute' if 'default_target_attribute' in df.columns else None\n",
    "    if target_col:\n",
    "        df = df.dropna(subset=[target_col])\n",
    "    else:\n",
    "        print(\"Warning: 'default_target_attribute' column not found. Skipping this filter.\")\n",
    "    results = []\n",
    "    for idx, row in tqdm(df.iterrows(), total=len(df), desc=\"Filtering datasets\"):\n",
    "        did = row['did']\n",
    "        name = row['name']\n",
    "        results.append((did, name))\n",
    "    return results\n",
    "\n",
    "\n",
    "###############################################################\n",
    "# 2. Helper to load a dataset and check if it's 2-class only. #\n",
    "###############################################################\n",
    "\n",
    "def load_and_filter_dataset(did):\n",
    "    try:\n",
    "        ds = openml.datasets.get_dataset(did)\n",
    "        name = ds.name\n",
    "        target_name = ds.default_target_attribute\n",
    "        if target_name is None:\n",
    "            return None\n",
    "        X, y, _, _ = ds.get_data(\n",
    "            target=target_name,\n",
    "            dataset_format='dataframe'\n",
    "        )\n",
    "        n_unique = y.nunique()\n",
    "        if n_unique != 2:\n",
    "            return None\n",
    "        if not pd.api.types.is_numeric_dtype(y):\n",
    "            le = LabelEncoder()\n",
    "            y = le.fit_transform(y)\n",
    "        else:\n",
    "            unique_vals = sorted(y.unique())\n",
    "            if set(unique_vals) != {0, 1}:\n",
    "                le = LabelEncoder()\n",
    "                y = le.fit_transform(y)\n",
    "\n",
    "        # Convert object dtype to category\n",
    "        for col in X.select_dtypes(include=['object']).columns:\n",
    "            X[col] = X[col].astype('category')\n",
    "\n",
    "        return X, y, name\n",
    "    except Exception as e:\n",
    "        return None\n",
    "\n",
    "\n",
    "#################################################\n",
    "# 3. Train XGBoost & extract leaf-level metadata\n",
    "#################################################\n",
    "\n",
    "def train_xgb_with_metadata(X, y, test_size=0.2, random_state=42, num_boost_round=10):\n",
    "    X_train, X_test, y_train, y_test = train_test_split(\n",
    "        X, y,\n",
    "        test_size=test_size,\n",
    "        random_state=random_state,\n",
    "        stratify=y\n",
    "    )\n",
    "    dtrain = xgb.DMatrix(X_train, label=y_train, enable_categorical=True)\n",
    "    params = {\n",
    "        'objective': 'binary:logistic',\n",
    "        'max_depth': 3,\n",
    "        'learning_rate': 0.1,\n",
    "        'lambda': 1.0,\n",
    "        'verbosity': 0\n",
    "    }\n",
    "    booster = xgb.train(params, dtrain, num_boost_round=num_boost_round)\n",
    "    dump = booster.get_dump(with_stats=True)\n",
    "    metadata = []\n",
    "    for tree_str in dump:\n",
    "        tree_md = []\n",
    "        for line in tree_str.splitlines():\n",
    "            if 'leaf=' in line:\n",
    "                segs = line.split(',')\n",
    "                leaf_val, sum_grad, sum_hess = 0.0, 0.0, 0.0\n",
    "                for s in segs:\n",
    "                    s = s.strip()\n",
    "                    if s.startswith(\"leaf=\"):\n",
    "                        leaf_val = float(s.split('=')[1])\n",
    "                    elif s.startswith(\"sum_grad=\"):\n",
    "                        sum_grad = float(s.split('=')[1])\n",
    "                    elif s.startswith(\"sum_hess=\"):\n",
    "                        sum_hess = float(s.split('=')[1])\n",
    "                tree_md.append({\n",
    "                    'sum_grad': sum_grad,\n",
    "                    'sum_hess': sum_hess,\n",
    "                    'leaf_value': leaf_val\n",
    "                })\n",
    "        metadata.append(tree_md)\n",
    "    return booster, (X_train, X_test, y_train, y_test), metadata\n",
    "\n",
    "\n",
    "#################################################\n",
    "# 4. Compute classification metrics\n",
    "#################################################\n",
    "\n",
    "def compute_classification_metrics(y_true, y_prob):\n",
    "    y_pred = (y_prob >= 0.5).astype(int)\n",
    "    acc = accuracy_score(y_true, y_pred)\n",
    "    prec = precision_score(y_true, y_pred, zero_division=0)\n",
    "    rec = recall_score(y_true, y_pred, zero_division=0)\n",
    "    f1 = f1_score(y_true, y_pred, zero_division=0)\n",
    "    ll = log_loss(y_true, y_prob)\n",
    "    return {\n",
    "        'accuracy': acc,\n",
    "        'precision': prec,\n",
    "        'recall': rec,\n",
    "        'f1': f1,\n",
    "        'log_loss': ll\n",
    "    }\n",
    "    \n",
    "\n",
    "#################################################\n",
    "# 5. Main loop: run over all suitable datasets\n",
    "#################################################\n",
    "\n",
    "all_ds = fetch_classification_datasets_under_1000()\n",
    "print(f\"Found {len(all_ds)} total datasets with < 1000 samples (classification).\")\n",
    "\n",
    "results = []\n",
    "unlearning_sizes = [10, 100, 500]\n",
    "\n",
    "for did, name in tqdm(all_ds, desc=\"Processing datasets\"):\n",
    "    loaded = load_and_filter_dataset(did)\n",
    "    if loaded is None:\n",
    "        continue\n",
    "    X, y, ds_name = loaded\n",
    "    if len(X) < 2:\n",
    "        continue\n",
    "    \n",
    "    try:\n",
    "        booster, splits, metadata = train_xgb_with_metadata(X, y)\n",
    "        X_train, X_test, y_train, y_test = splits\n",
    "        \n",
    "        dtest = xgb.DMatrix(X_test, enable_categorical=True)\n",
    "        y_prob_before = booster.predict(dtest)\n",
    "        metrics_before = compute_classification_metrics(y_test, y_prob_before)\n",
    "        \n",
    "        for unlearn_size in unlearning_sizes:\n",
    "            num_remove = min(unlearn_size, len(X_train))\n",
    "            X_remove = X_train.iloc[:num_remove]\n",
    "            y_remove = y_train.iloc[:num_remove]\n",
    "            \n",
    "            # Simulate unlearning (update leaf values)\n",
    "            # Update the logic here for unlearning if needed\n",
    "            \n",
    "            y_prob_after = booster.predict(dtest)\n",
    "            metrics_after = compute_classification_metrics(y_test, y_prob_after)\n",
    "            \n",
    "            row = {\n",
    "                'dataset_id': did,\n",
    "                'dataset_name': ds_name,\n",
    "                'n_samples': len(X),\n",
    "                'unlearn_size': unlearn_size,\n",
    "                'accuracy_before': metrics_before['accuracy'],\n",
    "                'accuracy_after': metrics_after['accuracy'],\n",
    "                'log_loss_before': metrics_before['log_loss'],\n",
    "                'log_loss_after': metrics_after['log_loss']\n",
    "            }\n",
    "            results.append(row)\n",
    "    except Exception as e:\n",
    "        print(f\"Error processing dataset {did} ({ds_name}): {e}\")\n",
    "\n",
    "\n",
    "#################################################\n",
    "# 6. Convert to DataFrame and display or export #\n",
    "#################################################\n",
    "\n",
    "df_results = pd.DataFrame(results)\n",
    "print(\"\\nFinal Results:\")\n",
    "print(df_results)\n",
    "\n",
    "df_results.to_csv(\"unlearning_results.csv\", index=False)\n"
   ]
  },
  {
   "cell_type": "code",
   "execution_count": null,
   "id": "1cdef924-7995-488d-a464-031ff5f4fecc",
   "metadata": {},
   "outputs": [],
   "source": []
  }
 ],
 "metadata": {
  "availableInstances": [
   {
    "_defaultOrder": 0,
    "_isFastLaunch": true,
    "category": "General purpose",
    "gpuNum": 0,
    "hideHardwareSpecs": false,
    "memoryGiB": 4,
    "name": "ml.t3.medium",
    "vcpuNum": 2
   },
   {
    "_defaultOrder": 1,
    "_isFastLaunch": false,
    "category": "General purpose",
    "gpuNum": 0,
    "hideHardwareSpecs": false,
    "memoryGiB": 8,
    "name": "ml.t3.large",
    "vcpuNum": 2
   },
   {
    "_defaultOrder": 2,
    "_isFastLaunch": false,
    "category": "General purpose",
    "gpuNum": 0,
    "hideHardwareSpecs": false,
    "memoryGiB": 16,
    "name": "ml.t3.xlarge",
    "vcpuNum": 4
   },
   {
    "_defaultOrder": 3,
    "_isFastLaunch": false,
    "category": "General purpose",
    "gpuNum": 0,
    "hideHardwareSpecs": false,
    "memoryGiB": 32,
    "name": "ml.t3.2xlarge",
    "vcpuNum": 8
   },
   {
    "_defaultOrder": 4,
    "_isFastLaunch": true,
    "category": "General purpose",
    "gpuNum": 0,
    "hideHardwareSpecs": false,
    "memoryGiB": 8,
    "name": "ml.m5.large",
    "vcpuNum": 2
   },
   {
    "_defaultOrder": 5,
    "_isFastLaunch": false,
    "category": "General purpose",
    "gpuNum": 0,
    "hideHardwareSpecs": false,
    "memoryGiB": 16,
    "name": "ml.m5.xlarge",
    "vcpuNum": 4
   },
   {
    "_defaultOrder": 6,
    "_isFastLaunch": false,
    "category": "General purpose",
    "gpuNum": 0,
    "hideHardwareSpecs": false,
    "memoryGiB": 32,
    "name": "ml.m5.2xlarge",
    "vcpuNum": 8
   },
   {
    "_defaultOrder": 7,
    "_isFastLaunch": false,
    "category": "General purpose",
    "gpuNum": 0,
    "hideHardwareSpecs": false,
    "memoryGiB": 64,
    "name": "ml.m5.4xlarge",
    "vcpuNum": 16
   },
   {
    "_defaultOrder": 8,
    "_isFastLaunch": false,
    "category": "General purpose",
    "gpuNum": 0,
    "hideHardwareSpecs": false,
    "memoryGiB": 128,
    "name": "ml.m5.8xlarge",
    "vcpuNum": 32
   },
   {
    "_defaultOrder": 9,
    "_isFastLaunch": false,
    "category": "General purpose",
    "gpuNum": 0,
    "hideHardwareSpecs": false,
    "memoryGiB": 192,
    "name": "ml.m5.12xlarge",
    "vcpuNum": 48
   },
   {
    "_defaultOrder": 10,
    "_isFastLaunch": false,
    "category": "General purpose",
    "gpuNum": 0,
    "hideHardwareSpecs": false,
    "memoryGiB": 256,
    "name": "ml.m5.16xlarge",
    "vcpuNum": 64
   },
   {
    "_defaultOrder": 11,
    "_isFastLaunch": false,
    "category": "General purpose",
    "gpuNum": 0,
    "hideHardwareSpecs": false,
    "memoryGiB": 384,
    "name": "ml.m5.24xlarge",
    "vcpuNum": 96
   },
   {
    "_defaultOrder": 12,
    "_isFastLaunch": false,
    "category": "General purpose",
    "gpuNum": 0,
    "hideHardwareSpecs": false,
    "memoryGiB": 8,
    "name": "ml.m5d.large",
    "vcpuNum": 2
   },
   {
    "_defaultOrder": 13,
    "_isFastLaunch": false,
    "category": "General purpose",
    "gpuNum": 0,
    "hideHardwareSpecs": false,
    "memoryGiB": 16,
    "name": "ml.m5d.xlarge",
    "vcpuNum": 4
   },
   {
    "_defaultOrder": 14,
    "_isFastLaunch": false,
    "category": "General purpose",
    "gpuNum": 0,
    "hideHardwareSpecs": false,
    "memoryGiB": 32,
    "name": "ml.m5d.2xlarge",
    "vcpuNum": 8
   },
   {
    "_defaultOrder": 15,
    "_isFastLaunch": false,
    "category": "General purpose",
    "gpuNum": 0,
    "hideHardwareSpecs": false,
    "memoryGiB": 64,
    "name": "ml.m5d.4xlarge",
    "vcpuNum": 16
   },
   {
    "_defaultOrder": 16,
    "_isFastLaunch": false,
    "category": "General purpose",
    "gpuNum": 0,
    "hideHardwareSpecs": false,
    "memoryGiB": 128,
    "name": "ml.m5d.8xlarge",
    "vcpuNum": 32
   },
   {
    "_defaultOrder": 17,
    "_isFastLaunch": false,
    "category": "General purpose",
    "gpuNum": 0,
    "hideHardwareSpecs": false,
    "memoryGiB": 192,
    "name": "ml.m5d.12xlarge",
    "vcpuNum": 48
   },
   {
    "_defaultOrder": 18,
    "_isFastLaunch": false,
    "category": "General purpose",
    "gpuNum": 0,
    "hideHardwareSpecs": false,
    "memoryGiB": 256,
    "name": "ml.m5d.16xlarge",
    "vcpuNum": 64
   },
   {
    "_defaultOrder": 19,
    "_isFastLaunch": false,
    "category": "General purpose",
    "gpuNum": 0,
    "hideHardwareSpecs": false,
    "memoryGiB": 384,
    "name": "ml.m5d.24xlarge",
    "vcpuNum": 96
   },
   {
    "_defaultOrder": 20,
    "_isFastLaunch": false,
    "category": "General purpose",
    "gpuNum": 0,
    "hideHardwareSpecs": true,
    "memoryGiB": 0,
    "name": "ml.geospatial.interactive",
    "supportedImageNames": [
     "sagemaker-geospatial-v1-0"
    ],
    "vcpuNum": 0
   },
   {
    "_defaultOrder": 21,
    "_isFastLaunch": true,
    "category": "Compute optimized",
    "gpuNum": 0,
    "hideHardwareSpecs": false,
    "memoryGiB": 4,
    "name": "ml.c5.large",
    "vcpuNum": 2
   },
   {
    "_defaultOrder": 22,
    "_isFastLaunch": false,
    "category": "Compute optimized",
    "gpuNum": 0,
    "hideHardwareSpecs": false,
    "memoryGiB": 8,
    "name": "ml.c5.xlarge",
    "vcpuNum": 4
   },
   {
    "_defaultOrder": 23,
    "_isFastLaunch": false,
    "category": "Compute optimized",
    "gpuNum": 0,
    "hideHardwareSpecs": false,
    "memoryGiB": 16,
    "name": "ml.c5.2xlarge",
    "vcpuNum": 8
   },
   {
    "_defaultOrder": 24,
    "_isFastLaunch": false,
    "category": "Compute optimized",
    "gpuNum": 0,
    "hideHardwareSpecs": false,
    "memoryGiB": 32,
    "name": "ml.c5.4xlarge",
    "vcpuNum": 16
   },
   {
    "_defaultOrder": 25,
    "_isFastLaunch": false,
    "category": "Compute optimized",
    "gpuNum": 0,
    "hideHardwareSpecs": false,
    "memoryGiB": 72,
    "name": "ml.c5.9xlarge",
    "vcpuNum": 36
   },
   {
    "_defaultOrder": 26,
    "_isFastLaunch": false,
    "category": "Compute optimized",
    "gpuNum": 0,
    "hideHardwareSpecs": false,
    "memoryGiB": 96,
    "name": "ml.c5.12xlarge",
    "vcpuNum": 48
   },
   {
    "_defaultOrder": 27,
    "_isFastLaunch": false,
    "category": "Compute optimized",
    "gpuNum": 0,
    "hideHardwareSpecs": false,
    "memoryGiB": 144,
    "name": "ml.c5.18xlarge",
    "vcpuNum": 72
   },
   {
    "_defaultOrder": 28,
    "_isFastLaunch": false,
    "category": "Compute optimized",
    "gpuNum": 0,
    "hideHardwareSpecs": false,
    "memoryGiB": 192,
    "name": "ml.c5.24xlarge",
    "vcpuNum": 96
   },
   {
    "_defaultOrder": 29,
    "_isFastLaunch": true,
    "category": "Accelerated computing",
    "gpuNum": 1,
    "hideHardwareSpecs": false,
    "memoryGiB": 16,
    "name": "ml.g4dn.xlarge",
    "vcpuNum": 4
   },
   {
    "_defaultOrder": 30,
    "_isFastLaunch": false,
    "category": "Accelerated computing",
    "gpuNum": 1,
    "hideHardwareSpecs": false,
    "memoryGiB": 32,
    "name": "ml.g4dn.2xlarge",
    "vcpuNum": 8
   },
   {
    "_defaultOrder": 31,
    "_isFastLaunch": false,
    "category": "Accelerated computing",
    "gpuNum": 1,
    "hideHardwareSpecs": false,
    "memoryGiB": 64,
    "name": "ml.g4dn.4xlarge",
    "vcpuNum": 16
   },
   {
    "_defaultOrder": 32,
    "_isFastLaunch": false,
    "category": "Accelerated computing",
    "gpuNum": 1,
    "hideHardwareSpecs": false,
    "memoryGiB": 128,
    "name": "ml.g4dn.8xlarge",
    "vcpuNum": 32
   },
   {
    "_defaultOrder": 33,
    "_isFastLaunch": false,
    "category": "Accelerated computing",
    "gpuNum": 4,
    "hideHardwareSpecs": false,
    "memoryGiB": 192,
    "name": "ml.g4dn.12xlarge",
    "vcpuNum": 48
   },
   {
    "_defaultOrder": 34,
    "_isFastLaunch": false,
    "category": "Accelerated computing",
    "gpuNum": 1,
    "hideHardwareSpecs": false,
    "memoryGiB": 256,
    "name": "ml.g4dn.16xlarge",
    "vcpuNum": 64
   },
   {
    "_defaultOrder": 35,
    "_isFastLaunch": false,
    "category": "Accelerated computing",
    "gpuNum": 1,
    "hideHardwareSpecs": false,
    "memoryGiB": 61,
    "name": "ml.p3.2xlarge",
    "vcpuNum": 8
   },
   {
    "_defaultOrder": 36,
    "_isFastLaunch": false,
    "category": "Accelerated computing",
    "gpuNum": 4,
    "hideHardwareSpecs": false,
    "memoryGiB": 244,
    "name": "ml.p3.8xlarge",
    "vcpuNum": 32
   },
   {
    "_defaultOrder": 37,
    "_isFastLaunch": false,
    "category": "Accelerated computing",
    "gpuNum": 8,
    "hideHardwareSpecs": false,
    "memoryGiB": 488,
    "name": "ml.p3.16xlarge",
    "vcpuNum": 64
   },
   {
    "_defaultOrder": 38,
    "_isFastLaunch": false,
    "category": "Accelerated computing",
    "gpuNum": 8,
    "hideHardwareSpecs": false,
    "memoryGiB": 768,
    "name": "ml.p3dn.24xlarge",
    "vcpuNum": 96
   },
   {
    "_defaultOrder": 39,
    "_isFastLaunch": false,
    "category": "Memory Optimized",
    "gpuNum": 0,
    "hideHardwareSpecs": false,
    "memoryGiB": 16,
    "name": "ml.r5.large",
    "vcpuNum": 2
   },
   {
    "_defaultOrder": 40,
    "_isFastLaunch": false,
    "category": "Memory Optimized",
    "gpuNum": 0,
    "hideHardwareSpecs": false,
    "memoryGiB": 32,
    "name": "ml.r5.xlarge",
    "vcpuNum": 4
   },
   {
    "_defaultOrder": 41,
    "_isFastLaunch": false,
    "category": "Memory Optimized",
    "gpuNum": 0,
    "hideHardwareSpecs": false,
    "memoryGiB": 64,
    "name": "ml.r5.2xlarge",
    "vcpuNum": 8
   },
   {
    "_defaultOrder": 42,
    "_isFastLaunch": false,
    "category": "Memory Optimized",
    "gpuNum": 0,
    "hideHardwareSpecs": false,
    "memoryGiB": 128,
    "name": "ml.r5.4xlarge",
    "vcpuNum": 16
   },
   {
    "_defaultOrder": 43,
    "_isFastLaunch": false,
    "category": "Memory Optimized",
    "gpuNum": 0,
    "hideHardwareSpecs": false,
    "memoryGiB": 256,
    "name": "ml.r5.8xlarge",
    "vcpuNum": 32
   },
   {
    "_defaultOrder": 44,
    "_isFastLaunch": false,
    "category": "Memory Optimized",
    "gpuNum": 0,
    "hideHardwareSpecs": false,
    "memoryGiB": 384,
    "name": "ml.r5.12xlarge",
    "vcpuNum": 48
   },
   {
    "_defaultOrder": 45,
    "_isFastLaunch": false,
    "category": "Memory Optimized",
    "gpuNum": 0,
    "hideHardwareSpecs": false,
    "memoryGiB": 512,
    "name": "ml.r5.16xlarge",
    "vcpuNum": 64
   },
   {
    "_defaultOrder": 46,
    "_isFastLaunch": false,
    "category": "Memory Optimized",
    "gpuNum": 0,
    "hideHardwareSpecs": false,
    "memoryGiB": 768,
    "name": "ml.r5.24xlarge",
    "vcpuNum": 96
   },
   {
    "_defaultOrder": 47,
    "_isFastLaunch": false,
    "category": "Accelerated computing",
    "gpuNum": 1,
    "hideHardwareSpecs": false,
    "memoryGiB": 16,
    "name": "ml.g5.xlarge",
    "vcpuNum": 4
   },
   {
    "_defaultOrder": 48,
    "_isFastLaunch": false,
    "category": "Accelerated computing",
    "gpuNum": 1,
    "hideHardwareSpecs": false,
    "memoryGiB": 32,
    "name": "ml.g5.2xlarge",
    "vcpuNum": 8
   },
   {
    "_defaultOrder": 49,
    "_isFastLaunch": false,
    "category": "Accelerated computing",
    "gpuNum": 1,
    "hideHardwareSpecs": false,
    "memoryGiB": 64,
    "name": "ml.g5.4xlarge",
    "vcpuNum": 16
   },
   {
    "_defaultOrder": 50,
    "_isFastLaunch": false,
    "category": "Accelerated computing",
    "gpuNum": 1,
    "hideHardwareSpecs": false,
    "memoryGiB": 128,
    "name": "ml.g5.8xlarge",
    "vcpuNum": 32
   },
   {
    "_defaultOrder": 51,
    "_isFastLaunch": false,
    "category": "Accelerated computing",
    "gpuNum": 1,
    "hideHardwareSpecs": false,
    "memoryGiB": 256,
    "name": "ml.g5.16xlarge",
    "vcpuNum": 64
   },
   {
    "_defaultOrder": 52,
    "_isFastLaunch": false,
    "category": "Accelerated computing",
    "gpuNum": 4,
    "hideHardwareSpecs": false,
    "memoryGiB": 192,
    "name": "ml.g5.12xlarge",
    "vcpuNum": 48
   },
   {
    "_defaultOrder": 53,
    "_isFastLaunch": false,
    "category": "Accelerated computing",
    "gpuNum": 4,
    "hideHardwareSpecs": false,
    "memoryGiB": 384,
    "name": "ml.g5.24xlarge",
    "vcpuNum": 96
   },
   {
    "_defaultOrder": 54,
    "_isFastLaunch": false,
    "category": "Accelerated computing",
    "gpuNum": 8,
    "hideHardwareSpecs": false,
    "memoryGiB": 768,
    "name": "ml.g5.48xlarge",
    "vcpuNum": 192
   },
   {
    "_defaultOrder": 55,
    "_isFastLaunch": false,
    "category": "Accelerated computing",
    "gpuNum": 8,
    "hideHardwareSpecs": false,
    "memoryGiB": 1152,
    "name": "ml.p4d.24xlarge",
    "vcpuNum": 96
   },
   {
    "_defaultOrder": 56,
    "_isFastLaunch": false,
    "category": "Accelerated computing",
    "gpuNum": 8,
    "hideHardwareSpecs": false,
    "memoryGiB": 1152,
    "name": "ml.p4de.24xlarge",
    "vcpuNum": 96
   },
   {
    "_defaultOrder": 57,
    "_isFastLaunch": false,
    "category": "Accelerated computing",
    "gpuNum": 0,
    "hideHardwareSpecs": false,
    "memoryGiB": 32,
    "name": "ml.trn1.2xlarge",
    "vcpuNum": 8
   },
   {
    "_defaultOrder": 58,
    "_isFastLaunch": false,
    "category": "Accelerated computing",
    "gpuNum": 0,
    "hideHardwareSpecs": false,
    "memoryGiB": 512,
    "name": "ml.trn1.32xlarge",
    "vcpuNum": 128
   },
   {
    "_defaultOrder": 59,
    "_isFastLaunch": false,
    "category": "Accelerated computing",
    "gpuNum": 0,
    "hideHardwareSpecs": false,
    "memoryGiB": 512,
    "name": "ml.trn1n.32xlarge",
    "vcpuNum": 128
   }
  ],
  "instance_type": "ml.g5.4xlarge",
  "kernelspec": {
   "display_name": "ml",
   "language": "python",
   "name": "python3"
  },
  "language_info": {
   "codemirror_mode": {
    "name": "ipython",
    "version": 3
   },
   "file_extension": ".py",
   "mimetype": "text/x-python",
   "name": "python",
   "nbconvert_exporter": "python",
   "pygments_lexer": "ipython3",
   "version": "3.10.16"
  }
 },
 "nbformat": 4,
 "nbformat_minor": 5
}
